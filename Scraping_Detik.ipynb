{
  "cells": [
    {
      "cell_type": "markdown",
      "metadata": {
        "id": "B9nVXMoDQlKZ"
      },
      "source": [
        "Scraping berita online dari situs Detik.com dari berbagai macam kategori\n",
        "\n",
        "Kategori:\n",
        "```\n",
        "https://{}.detik.com/indeks/\n",
        "1. finance: ekonomi, bisnis, dan investasi.\n",
        "2. inet: teknologi, informasi, dan gadget.\n",
        "3. sport: seputar olahraga.\n",
        "4. oto: otomotif luar dan dalam negeri.\n",
        "5. travel: inspirasi jalan-jalan ke mana saja.\n",
        "6. food: kabar kuliner, resep, dan rekomendasi tempat makan.\n",
        "7. health: artikel kesehatan, diet, seks, dan konsultasi.\n",
        "-----------------------------------------------------------\n",
        "https://www.detik.com/{}/indeks/\n",
        "8. edu: dunia pendidikan.\n",
        "9. properti: jual beli, sewa rumah, dan apartemen tanah\n",
        "```\n",
        "\n",
        "\n",
        "\n"
      ]
    },
    {
      "cell_type": "markdown",
      "metadata": {
        "id": "-O1BPzzTPh9U"
      },
      "source": [
        "Data yang nantinya akan diambil adalah judul, tanggal publish, isi/konten berita, dan kategori yang diambil dari 9 kategori di atas."
      ]
    },
    {
      "cell_type": "code",
      "execution_count": 32,
      "metadata": {
        "id": "vzz_cJnSchJN"
      },
      "outputs": [],
      "source": [
        "from bs4 import BeautifulSoup as bs # tool scraping\n",
        "from tqdm import tqdm # biar keren\n",
        "\n",
        "import requests\n",
        "import pandas as pd"
      ]
    },
    {
      "cell_type": "code",
      "execution_count": 33,
      "metadata": {
        "id": "chAQbaFXdBbt"
      },
      "outputs": [],
      "source": [
        "kategori1 = ['finance', 'inet', 'sport', 'oto', 'travel', 'food', 'health']\n",
        "kategori2 = ['edu', 'properti']\n",
        "\n",
        "# dibedakan karena susunan URL nya berbeda\n",
        "\n",
        "\n",
        "halaman = 1 # jumlah halaman, satu halaman memuat sekitar 20 berita\n",
        "berita = []"
      ]
    },
    {
      "cell_type": "markdown",
      "source": [
        "# Scraping"
      ],
      "metadata": {
        "id": "9SGga2Yc2qKi"
      }
    },
    {
      "cell_type": "code",
      "execution_count": 25,
      "metadata": {
        "colab": {
          "base_uri": "https://localhost:8080/"
        },
        "id": "F6SNC2pWeGnT",
        "outputId": "bf18b7d6-1a85-4c7d-e9bd-074c4dc3f3bc"
      },
      "outputs": [
        {
          "output_type": "stream",
          "name": "stdout",
          "text": [
            "Kategori - finance:\n"
          ]
        },
        {
          "output_type": "stream",
          "name": "stderr",
          "text": [
            "\tHalaman - 1: 100%|██████████| 5/5 [00:21<00:00,  4.22s/it]\n"
          ]
        },
        {
          "output_type": "stream",
          "name": "stdout",
          "text": [
            "Kategori - inet:\n"
          ]
        },
        {
          "output_type": "stream",
          "name": "stderr",
          "text": [
            "\tHalaman - 1: 100%|██████████| 5/5 [00:22<00:00,  4.43s/it]\n"
          ]
        },
        {
          "output_type": "stream",
          "name": "stdout",
          "text": [
            "Kategori - sport:\n"
          ]
        },
        {
          "output_type": "stream",
          "name": "stderr",
          "text": [
            "\tHalaman - 1: 100%|██████████| 5/5 [00:38<00:00,  7.76s/it]\n"
          ]
        },
        {
          "output_type": "stream",
          "name": "stdout",
          "text": [
            "Kategori - oto:\n"
          ]
        },
        {
          "output_type": "stream",
          "name": "stderr",
          "text": [
            "\tHalaman - 1: 100%|██████████| 5/5 [00:31<00:00,  6.29s/it]\n"
          ]
        },
        {
          "output_type": "stream",
          "name": "stdout",
          "text": [
            "Kategori - travel:\n"
          ]
        },
        {
          "output_type": "stream",
          "name": "stderr",
          "text": [
            "\tHalaman - 1: 100%|██████████| 5/5 [00:26<00:00,  5.26s/it]\n"
          ]
        },
        {
          "output_type": "stream",
          "name": "stdout",
          "text": [
            "Kategori - food:\n"
          ]
        },
        {
          "output_type": "stream",
          "name": "stderr",
          "text": [
            "\tHalaman - 1: 100%|██████████| 5/5 [00:28<00:00,  5.74s/it]\n"
          ]
        },
        {
          "output_type": "stream",
          "name": "stdout",
          "text": [
            "Kategori - health:\n"
          ]
        },
        {
          "output_type": "stream",
          "name": "stderr",
          "text": [
            "\tHalaman - 1: 100%|██████████| 5/5 [00:21<00:00,  4.30s/it]\n"
          ]
        }
      ],
      "source": [
        "# -- Kategori 1 --\n",
        "\n",
        "for i in kategori1:\n",
        "    print(f\"Kategori - {i}:\")\n",
        "    for ii in range(halaman):\n",
        "        url = f'https://{i}.detik.com/indeks?page={ii+1}'\n",
        "\n",
        "        html = requests.get(url).text\n",
        "        soup = bs(html, 'html.parser')\n",
        "\n",
        "        container = soup.find_all(\"div\", class_=\"container\")\n",
        "\n",
        "        for containers in tqdm(container, desc=f\"\\tHalaman - {ii+1}\"):\n",
        "            articles = containers.find_all(\"article\", class_=\"list-content__item\")\n",
        "\n",
        "            for article in articles:\n",
        "                judul = article.find(\"h3\", class_=\"media__title\").text.strip()\n",
        "\n",
        "                # Karena judul berita yang diawali dengan \"Video\" itu pasti berupa video, bukan data text, jadi di sini dihapus (tidak dimasukkan), atau dilewati\n",
        "                # \"Infografis\" = gambar\n",
        "\n",
        "                if judul.startswith(\"Video\") or judul.startswith(\"Infografis\"):\n",
        "                    continue\n",
        "\n",
        "                link = article.find(\"a\")[\"href\"]\n",
        "\n",
        "                #print(judul)\n",
        "                #print(link)\n",
        "\n",
        "                html_konten = requests.get(link).text\n",
        "                soup_konten = bs(html_konten, 'html.parser')\n",
        "\n",
        "                container_konten = soup_konten.find_all(\"div\", class_=\"container\")\n",
        "\n",
        "                for containers_konten in container_konten:\n",
        "                    articles_konten = containers_konten.find_all(\"article\", class_=\"detail\")\n",
        "\n",
        "                    for article_konten in articles_konten:\n",
        "                        #tanggal\n",
        "                        tanggal = article_konten.find(\"div\", class_=\"detail__date\")\n",
        "                        if tanggal:\n",
        "                            tgl = tanggal.text.strip()\n",
        "                            date = \" \".join(tgl.split(\", \")[1].split(\" \")[:3])\n",
        "\n",
        "                        konten = article_konten.find_all(\"p\", class_ = None)\n",
        "\n",
        "                        berita.append({\n",
        "                            'judul': judul,\n",
        "                            'tanggal': date,\n",
        "                            'konten': '\\n'.join([iii.text.strip() for iii in konten]),\n",
        "                            'kategori': i\n",
        "                        })"
      ]
    },
    {
      "cell_type": "code",
      "source": [
        "# -- Kategori 2 --\n",
        "\n",
        "# Dibuat beda sel, karena lama (tergantung jumlah halaman)\n",
        "\n",
        "for i in kategori2:\n",
        "    print(f'Kategori - {i}:')\n",
        "    for ii in range(halaman):\n",
        "        url = f'https://www.detik.com/{i}/indeks?page={ii+1}'\n",
        "\n",
        "        html = requests.get(url).text\n",
        "        soup = bs(html, 'html.parser')\n",
        "\n",
        "        container = soup.find_all(\"div\", class_=\"container\")\n",
        "\n",
        "        for containers in tqdm(container, desc=f\"\\tHalaman - {ii+1}\"):\n",
        "            articles = containers.find_all(\"article\", class_=\"list-content__item\")\n",
        "\n",
        "            for article in articles:\n",
        "                judul = article.find(\"h3\", class_=\"media__title\").text.strip()\n",
        "\n",
        "                if judul.startswith(\"Video\") or judul.startswith(\"Infografis\"):\n",
        "                    continue\n",
        "\n",
        "                link = article.find(\"a\")[\"href\"]\n",
        "\n",
        "                #print(judul)\n",
        "                #print(link)\n",
        "\n",
        "                html_konten = requests.get(link).text\n",
        "                soup_konten = bs(html_konten, 'html.parser')\n",
        "\n",
        "                container_konten = soup_konten.find_all(\"div\", class_=\"container\")\n",
        "\n",
        "                for containers_konten in container_konten:\n",
        "                    articles_konten = containers_konten.find_all(\"article\", class_=\"detail\")\n",
        "\n",
        "                    for article_konten in articles_konten:\n",
        "                        #tanggal\n",
        "                        tanggal = article_konten.find(\"div\", class_=\"detail__date\")\n",
        "                        if tanggal:\n",
        "                            tgl = tanggal.text.strip()\n",
        "                            date = \" \".join(tgl.split(\", \")[1].split(\" \")[:3])\n",
        "\n",
        "                        konten = article_konten.find_all(\"p\", class_ = None)\n",
        "\n",
        "                        berita.append({\n",
        "                            'judul': judul,\n",
        "                            'tanggal': date,\n",
        "                            'konten': '\\n'.join([iii.text.strip() for iii in konten]),\n",
        "                            'kategori': i\n",
        "                        })"
      ],
      "metadata": {
        "id": "0Glpzpmj_FRa",
        "colab": {
          "base_uri": "https://localhost:8080/"
        },
        "outputId": "bad91c9b-f7b9-4d14-b15c-f1c450c96f18"
      },
      "execution_count": 26,
      "outputs": [
        {
          "output_type": "stream",
          "name": "stdout",
          "text": [
            "Kategori - edu:\n"
          ]
        },
        {
          "output_type": "stream",
          "name": "stderr",
          "text": [
            "\tHalaman - 1: 100%|██████████| 5/5 [00:26<00:00,  5.26s/it]\n"
          ]
        },
        {
          "output_type": "stream",
          "name": "stdout",
          "text": [
            "Kategori - properti:\n"
          ]
        },
        {
          "output_type": "stream",
          "name": "stderr",
          "text": [
            "\tHalaman - 1: 100%|██████████| 5/5 [00:32<00:00,  6.53s/it]\n"
          ]
        }
      ]
    },
    {
      "cell_type": "code",
      "execution_count": 27,
      "metadata": {
        "id": "UYoh_79DJK8z",
        "colab": {
          "base_uri": "https://localhost:8080/",
          "height": 423
        },
        "outputId": "8b62b6f1-afb3-442d-d530-772fd90717c3"
      },
      "outputs": [
        {
          "output_type": "execute_result",
          "data": {
            "text/plain": [
              "                                                 judul      tanggal  \\\n",
              "0            The Fed Pangkas Bunga Acuan 25 Basis Poin  19 Des 2024   \n",
              "1    52 KA Tambahan Akan Layani Penumpang Selama Li...  19 Des 2024   \n",
              "2    Bertemu Presiden Mesir, Prabowo Mau RI Ikut Zo...  19 Des 2024   \n",
              "3    Sahamnya Anjlok Sampai Mentok saat Debut Perda...  19 Des 2024   \n",
              "4    Diskon Listrik 50% & Bantuan Beras Hanya 2 Bul...  19 Des 2024   \n",
              "..                                                 ...          ...   \n",
              "167  Warga Kolong Jembatan Kini Tidur di Rusun, Fas...  18 Des 2024   \n",
              "168  6 Langkah Mudah Bersihkan Kasur Biar Bebas Tungau  18 Des 2024   \n",
              "169  Pasar Properti Bogor Cerah, Ruko Premium Laris...  18 Des 2024   \n",
              "170  Model J Hotel Pertama Resmi Dibuka Dekat Banda...  18 Des 2024   \n",
              "171  Warga Kolong Jembatan Bandung Resmi Dipindahka...  18 Des 2024   \n",
              "\n",
              "                                                konten  kategori  \n",
              "0    The Federal Reserve atau The Fed sepakat menur...   finance  \n",
              "1    Jakarta - PT KAI bersiap menghadapi libur Nata...   finance  \n",
              "2    Presiden Prabowo Subianto melakukan pertemuan ...   finance  \n",
              "3    Pada pencatatan perdana saham atau initial pub...   finance  \n",
              "4    Ekonom mengkritik bantuan untuk meringankan ke...   finance  \n",
              "..                                                 ...       ...  \n",
              "167  Sebanyak 48 KK dari 98 KK di Bandung, Jawa Bar...  properti  \n",
              "168  Seiring waktu kasur dapat menimbulkan noda dan...  properti  \n",
              "169  Bogor adalah wilayah penyangga yang sangat dim...  properti  \n",
              "170  Delonix Group Indonesia mengumumkan pembukaan ...  properti  \n",
              "171  Masyarakat yang tinggal di kolong Jembatan Pas...  properti  \n",
              "\n",
              "[172 rows x 4 columns]"
            ],
            "text/html": [
              "\n",
              "  <div id=\"df-a8a688cf-4ce4-40e4-8722-f2256b0a1353\" class=\"colab-df-container\">\n",
              "    <div>\n",
              "<style scoped>\n",
              "    .dataframe tbody tr th:only-of-type {\n",
              "        vertical-align: middle;\n",
              "    }\n",
              "\n",
              "    .dataframe tbody tr th {\n",
              "        vertical-align: top;\n",
              "    }\n",
              "\n",
              "    .dataframe thead th {\n",
              "        text-align: right;\n",
              "    }\n",
              "</style>\n",
              "<table border=\"1\" class=\"dataframe\">\n",
              "  <thead>\n",
              "    <tr style=\"text-align: right;\">\n",
              "      <th></th>\n",
              "      <th>judul</th>\n",
              "      <th>tanggal</th>\n",
              "      <th>konten</th>\n",
              "      <th>kategori</th>\n",
              "    </tr>\n",
              "  </thead>\n",
              "  <tbody>\n",
              "    <tr>\n",
              "      <th>0</th>\n",
              "      <td>The Fed Pangkas Bunga Acuan 25 Basis Poin</td>\n",
              "      <td>19 Des 2024</td>\n",
              "      <td>The Federal Reserve atau The Fed sepakat menur...</td>\n",
              "      <td>finance</td>\n",
              "    </tr>\n",
              "    <tr>\n",
              "      <th>1</th>\n",
              "      <td>52 KA Tambahan Akan Layani Penumpang Selama Li...</td>\n",
              "      <td>19 Des 2024</td>\n",
              "      <td>Jakarta - PT KAI bersiap menghadapi libur Nata...</td>\n",
              "      <td>finance</td>\n",
              "    </tr>\n",
              "    <tr>\n",
              "      <th>2</th>\n",
              "      <td>Bertemu Presiden Mesir, Prabowo Mau RI Ikut Zo...</td>\n",
              "      <td>19 Des 2024</td>\n",
              "      <td>Presiden Prabowo Subianto melakukan pertemuan ...</td>\n",
              "      <td>finance</td>\n",
              "    </tr>\n",
              "    <tr>\n",
              "      <th>3</th>\n",
              "      <td>Sahamnya Anjlok Sampai Mentok saat Debut Perda...</td>\n",
              "      <td>19 Des 2024</td>\n",
              "      <td>Pada pencatatan perdana saham atau initial pub...</td>\n",
              "      <td>finance</td>\n",
              "    </tr>\n",
              "    <tr>\n",
              "      <th>4</th>\n",
              "      <td>Diskon Listrik 50% &amp; Bantuan Beras Hanya 2 Bul...</td>\n",
              "      <td>19 Des 2024</td>\n",
              "      <td>Ekonom mengkritik bantuan untuk meringankan ke...</td>\n",
              "      <td>finance</td>\n",
              "    </tr>\n",
              "    <tr>\n",
              "      <th>...</th>\n",
              "      <td>...</td>\n",
              "      <td>...</td>\n",
              "      <td>...</td>\n",
              "      <td>...</td>\n",
              "    </tr>\n",
              "    <tr>\n",
              "      <th>167</th>\n",
              "      <td>Warga Kolong Jembatan Kini Tidur di Rusun, Fas...</td>\n",
              "      <td>18 Des 2024</td>\n",
              "      <td>Sebanyak 48 KK dari 98 KK di Bandung, Jawa Bar...</td>\n",
              "      <td>properti</td>\n",
              "    </tr>\n",
              "    <tr>\n",
              "      <th>168</th>\n",
              "      <td>6 Langkah Mudah Bersihkan Kasur Biar Bebas Tungau</td>\n",
              "      <td>18 Des 2024</td>\n",
              "      <td>Seiring waktu kasur dapat menimbulkan noda dan...</td>\n",
              "      <td>properti</td>\n",
              "    </tr>\n",
              "    <tr>\n",
              "      <th>169</th>\n",
              "      <td>Pasar Properti Bogor Cerah, Ruko Premium Laris...</td>\n",
              "      <td>18 Des 2024</td>\n",
              "      <td>Bogor adalah wilayah penyangga yang sangat dim...</td>\n",
              "      <td>properti</td>\n",
              "    </tr>\n",
              "    <tr>\n",
              "      <th>170</th>\n",
              "      <td>Model J Hotel Pertama Resmi Dibuka Dekat Banda...</td>\n",
              "      <td>18 Des 2024</td>\n",
              "      <td>Delonix Group Indonesia mengumumkan pembukaan ...</td>\n",
              "      <td>properti</td>\n",
              "    </tr>\n",
              "    <tr>\n",
              "      <th>171</th>\n",
              "      <td>Warga Kolong Jembatan Bandung Resmi Dipindahka...</td>\n",
              "      <td>18 Des 2024</td>\n",
              "      <td>Masyarakat yang tinggal di kolong Jembatan Pas...</td>\n",
              "      <td>properti</td>\n",
              "    </tr>\n",
              "  </tbody>\n",
              "</table>\n",
              "<p>172 rows × 4 columns</p>\n",
              "</div>\n",
              "    <div class=\"colab-df-buttons\">\n",
              "\n",
              "  <div class=\"colab-df-container\">\n",
              "    <button class=\"colab-df-convert\" onclick=\"convertToInteractive('df-a8a688cf-4ce4-40e4-8722-f2256b0a1353')\"\n",
              "            title=\"Convert this dataframe to an interactive table.\"\n",
              "            style=\"display:none;\">\n",
              "\n",
              "  <svg xmlns=\"http://www.w3.org/2000/svg\" height=\"24px\" viewBox=\"0 -960 960 960\">\n",
              "    <path d=\"M120-120v-720h720v720H120Zm60-500h600v-160H180v160Zm220 220h160v-160H400v160Zm0 220h160v-160H400v160ZM180-400h160v-160H180v160Zm440 0h160v-160H620v160ZM180-180h160v-160H180v160Zm440 0h160v-160H620v160Z\"/>\n",
              "  </svg>\n",
              "    </button>\n",
              "\n",
              "  <style>\n",
              "    .colab-df-container {\n",
              "      display:flex;\n",
              "      gap: 12px;\n",
              "    }\n",
              "\n",
              "    .colab-df-convert {\n",
              "      background-color: #E8F0FE;\n",
              "      border: none;\n",
              "      border-radius: 50%;\n",
              "      cursor: pointer;\n",
              "      display: none;\n",
              "      fill: #1967D2;\n",
              "      height: 32px;\n",
              "      padding: 0 0 0 0;\n",
              "      width: 32px;\n",
              "    }\n",
              "\n",
              "    .colab-df-convert:hover {\n",
              "      background-color: #E2EBFA;\n",
              "      box-shadow: 0px 1px 2px rgba(60, 64, 67, 0.3), 0px 1px 3px 1px rgba(60, 64, 67, 0.15);\n",
              "      fill: #174EA6;\n",
              "    }\n",
              "\n",
              "    .colab-df-buttons div {\n",
              "      margin-bottom: 4px;\n",
              "    }\n",
              "\n",
              "    [theme=dark] .colab-df-convert {\n",
              "      background-color: #3B4455;\n",
              "      fill: #D2E3FC;\n",
              "    }\n",
              "\n",
              "    [theme=dark] .colab-df-convert:hover {\n",
              "      background-color: #434B5C;\n",
              "      box-shadow: 0px 1px 3px 1px rgba(0, 0, 0, 0.15);\n",
              "      filter: drop-shadow(0px 1px 2px rgba(0, 0, 0, 0.3));\n",
              "      fill: #FFFFFF;\n",
              "    }\n",
              "  </style>\n",
              "\n",
              "    <script>\n",
              "      const buttonEl =\n",
              "        document.querySelector('#df-a8a688cf-4ce4-40e4-8722-f2256b0a1353 button.colab-df-convert');\n",
              "      buttonEl.style.display =\n",
              "        google.colab.kernel.accessAllowed ? 'block' : 'none';\n",
              "\n",
              "      async function convertToInteractive(key) {\n",
              "        const element = document.querySelector('#df-a8a688cf-4ce4-40e4-8722-f2256b0a1353');\n",
              "        const dataTable =\n",
              "          await google.colab.kernel.invokeFunction('convertToInteractive',\n",
              "                                                    [key], {});\n",
              "        if (!dataTable) return;\n",
              "\n",
              "        const docLinkHtml = 'Like what you see? Visit the ' +\n",
              "          '<a target=\"_blank\" href=https://colab.research.google.com/notebooks/data_table.ipynb>data table notebook</a>'\n",
              "          + ' to learn more about interactive tables.';\n",
              "        element.innerHTML = '';\n",
              "        dataTable['output_type'] = 'display_data';\n",
              "        await google.colab.output.renderOutput(dataTable, element);\n",
              "        const docLink = document.createElement('div');\n",
              "        docLink.innerHTML = docLinkHtml;\n",
              "        element.appendChild(docLink);\n",
              "      }\n",
              "    </script>\n",
              "  </div>\n",
              "\n",
              "\n",
              "<div id=\"df-71f32b42-3ade-4762-a4ba-bd4d8cfb44c9\">\n",
              "  <button class=\"colab-df-quickchart\" onclick=\"quickchart('df-71f32b42-3ade-4762-a4ba-bd4d8cfb44c9')\"\n",
              "            title=\"Suggest charts\"\n",
              "            style=\"display:none;\">\n",
              "\n",
              "<svg xmlns=\"http://www.w3.org/2000/svg\" height=\"24px\"viewBox=\"0 0 24 24\"\n",
              "     width=\"24px\">\n",
              "    <g>\n",
              "        <path d=\"M19 3H5c-1.1 0-2 .9-2 2v14c0 1.1.9 2 2 2h14c1.1 0 2-.9 2-2V5c0-1.1-.9-2-2-2zM9 17H7v-7h2v7zm4 0h-2V7h2v10zm4 0h-2v-4h2v4z\"/>\n",
              "    </g>\n",
              "</svg>\n",
              "  </button>\n",
              "\n",
              "<style>\n",
              "  .colab-df-quickchart {\n",
              "      --bg-color: #E8F0FE;\n",
              "      --fill-color: #1967D2;\n",
              "      --hover-bg-color: #E2EBFA;\n",
              "      --hover-fill-color: #174EA6;\n",
              "      --disabled-fill-color: #AAA;\n",
              "      --disabled-bg-color: #DDD;\n",
              "  }\n",
              "\n",
              "  [theme=dark] .colab-df-quickchart {\n",
              "      --bg-color: #3B4455;\n",
              "      --fill-color: #D2E3FC;\n",
              "      --hover-bg-color: #434B5C;\n",
              "      --hover-fill-color: #FFFFFF;\n",
              "      --disabled-bg-color: #3B4455;\n",
              "      --disabled-fill-color: #666;\n",
              "  }\n",
              "\n",
              "  .colab-df-quickchart {\n",
              "    background-color: var(--bg-color);\n",
              "    border: none;\n",
              "    border-radius: 50%;\n",
              "    cursor: pointer;\n",
              "    display: none;\n",
              "    fill: var(--fill-color);\n",
              "    height: 32px;\n",
              "    padding: 0;\n",
              "    width: 32px;\n",
              "  }\n",
              "\n",
              "  .colab-df-quickchart:hover {\n",
              "    background-color: var(--hover-bg-color);\n",
              "    box-shadow: 0 1px 2px rgba(60, 64, 67, 0.3), 0 1px 3px 1px rgba(60, 64, 67, 0.15);\n",
              "    fill: var(--button-hover-fill-color);\n",
              "  }\n",
              "\n",
              "  .colab-df-quickchart-complete:disabled,\n",
              "  .colab-df-quickchart-complete:disabled:hover {\n",
              "    background-color: var(--disabled-bg-color);\n",
              "    fill: var(--disabled-fill-color);\n",
              "    box-shadow: none;\n",
              "  }\n",
              "\n",
              "  .colab-df-spinner {\n",
              "    border: 2px solid var(--fill-color);\n",
              "    border-color: transparent;\n",
              "    border-bottom-color: var(--fill-color);\n",
              "    animation:\n",
              "      spin 1s steps(1) infinite;\n",
              "  }\n",
              "\n",
              "  @keyframes spin {\n",
              "    0% {\n",
              "      border-color: transparent;\n",
              "      border-bottom-color: var(--fill-color);\n",
              "      border-left-color: var(--fill-color);\n",
              "    }\n",
              "    20% {\n",
              "      border-color: transparent;\n",
              "      border-left-color: var(--fill-color);\n",
              "      border-top-color: var(--fill-color);\n",
              "    }\n",
              "    30% {\n",
              "      border-color: transparent;\n",
              "      border-left-color: var(--fill-color);\n",
              "      border-top-color: var(--fill-color);\n",
              "      border-right-color: var(--fill-color);\n",
              "    }\n",
              "    40% {\n",
              "      border-color: transparent;\n",
              "      border-right-color: var(--fill-color);\n",
              "      border-top-color: var(--fill-color);\n",
              "    }\n",
              "    60% {\n",
              "      border-color: transparent;\n",
              "      border-right-color: var(--fill-color);\n",
              "    }\n",
              "    80% {\n",
              "      border-color: transparent;\n",
              "      border-right-color: var(--fill-color);\n",
              "      border-bottom-color: var(--fill-color);\n",
              "    }\n",
              "    90% {\n",
              "      border-color: transparent;\n",
              "      border-bottom-color: var(--fill-color);\n",
              "    }\n",
              "  }\n",
              "</style>\n",
              "\n",
              "  <script>\n",
              "    async function quickchart(key) {\n",
              "      const quickchartButtonEl =\n",
              "        document.querySelector('#' + key + ' button');\n",
              "      quickchartButtonEl.disabled = true;  // To prevent multiple clicks.\n",
              "      quickchartButtonEl.classList.add('colab-df-spinner');\n",
              "      try {\n",
              "        const charts = await google.colab.kernel.invokeFunction(\n",
              "            'suggestCharts', [key], {});\n",
              "      } catch (error) {\n",
              "        console.error('Error during call to suggestCharts:', error);\n",
              "      }\n",
              "      quickchartButtonEl.classList.remove('colab-df-spinner');\n",
              "      quickchartButtonEl.classList.add('colab-df-quickchart-complete');\n",
              "    }\n",
              "    (() => {\n",
              "      let quickchartButtonEl =\n",
              "        document.querySelector('#df-71f32b42-3ade-4762-a4ba-bd4d8cfb44c9 button');\n",
              "      quickchartButtonEl.style.display =\n",
              "        google.colab.kernel.accessAllowed ? 'block' : 'none';\n",
              "    })();\n",
              "  </script>\n",
              "</div>\n",
              "\n",
              "  <div id=\"id_8a72bd51-92aa-4793-9d5c-a18ed39224a0\">\n",
              "    <style>\n",
              "      .colab-df-generate {\n",
              "        background-color: #E8F0FE;\n",
              "        border: none;\n",
              "        border-radius: 50%;\n",
              "        cursor: pointer;\n",
              "        display: none;\n",
              "        fill: #1967D2;\n",
              "        height: 32px;\n",
              "        padding: 0 0 0 0;\n",
              "        width: 32px;\n",
              "      }\n",
              "\n",
              "      .colab-df-generate:hover {\n",
              "        background-color: #E2EBFA;\n",
              "        box-shadow: 0px 1px 2px rgba(60, 64, 67, 0.3), 0px 1px 3px 1px rgba(60, 64, 67, 0.15);\n",
              "        fill: #174EA6;\n",
              "      }\n",
              "\n",
              "      [theme=dark] .colab-df-generate {\n",
              "        background-color: #3B4455;\n",
              "        fill: #D2E3FC;\n",
              "      }\n",
              "\n",
              "      [theme=dark] .colab-df-generate:hover {\n",
              "        background-color: #434B5C;\n",
              "        box-shadow: 0px 1px 3px 1px rgba(0, 0, 0, 0.15);\n",
              "        filter: drop-shadow(0px 1px 2px rgba(0, 0, 0, 0.3));\n",
              "        fill: #FFFFFF;\n",
              "      }\n",
              "    </style>\n",
              "    <button class=\"colab-df-generate\" onclick=\"generateWithVariable('df')\"\n",
              "            title=\"Generate code using this dataframe.\"\n",
              "            style=\"display:none;\">\n",
              "\n",
              "  <svg xmlns=\"http://www.w3.org/2000/svg\" height=\"24px\"viewBox=\"0 0 24 24\"\n",
              "       width=\"24px\">\n",
              "    <path d=\"M7,19H8.4L18.45,9,17,7.55,7,17.6ZM5,21V16.75L18.45,3.32a2,2,0,0,1,2.83,0l1.4,1.43a1.91,1.91,0,0,1,.58,1.4,1.91,1.91,0,0,1-.58,1.4L9.25,21ZM18.45,9,17,7.55Zm-12,3A5.31,5.31,0,0,0,4.9,8.1,5.31,5.31,0,0,0,1,6.5,5.31,5.31,0,0,0,4.9,4.9,5.31,5.31,0,0,0,6.5,1,5.31,5.31,0,0,0,8.1,4.9,5.31,5.31,0,0,0,12,6.5,5.46,5.46,0,0,0,6.5,12Z\"/>\n",
              "  </svg>\n",
              "    </button>\n",
              "    <script>\n",
              "      (() => {\n",
              "      const buttonEl =\n",
              "        document.querySelector('#id_8a72bd51-92aa-4793-9d5c-a18ed39224a0 button.colab-df-generate');\n",
              "      buttonEl.style.display =\n",
              "        google.colab.kernel.accessAllowed ? 'block' : 'none';\n",
              "\n",
              "      buttonEl.onclick = () => {\n",
              "        google.colab.notebook.generateWithVariable('df');\n",
              "      }\n",
              "      })();\n",
              "    </script>\n",
              "  </div>\n",
              "\n",
              "    </div>\n",
              "  </div>\n"
            ],
            "application/vnd.google.colaboratory.intrinsic+json": {
              "type": "dataframe",
              "variable_name": "df",
              "summary": "{\n  \"name\": \"df\",\n  \"rows\": 172,\n  \"fields\": [\n    {\n      \"column\": \"judul\",\n      \"properties\": {\n        \"dtype\": \"string\",\n        \"num_unique_values\": 172,\n        \"samples\": [\n          \"Viral Sepasang Sijoli Mesum dalam Tenda, Digerebek Warga Deh\",\n          \"Vanuatu Letaknya di Mana? Tak Jauh dari Australia, Negara Ini Juga di Ring of Fire\",\n          \"50 Kata-kata Motivasi untuk Catatan Wali Kelas, Guru Bisa Cari Inspirasi di Sini!\"\n        ],\n        \"semantic_type\": \"\",\n        \"description\": \"\"\n      }\n    },\n    {\n      \"column\": \"tanggal\",\n      \"properties\": {\n        \"dtype\": \"category\",\n        \"num_unique_values\": 3,\n        \"samples\": [\n          \"19 Des 2024\",\n          \"18 Des 2024\",\n          \"17 Des 2024\"\n        ],\n        \"semantic_type\": \"\",\n        \"description\": \"\"\n      }\n    },\n    {\n      \"column\": \"konten\",\n      \"properties\": {\n        \"dtype\": \"string\",\n        \"num_unique_values\": 172,\n        \"samples\": [\n          \"Dalam unggahan itu dinarasikan terjadi di kawasan wisata alam wilayah Dau, Kabupaten Malang.\\nDilansir detikJatim, Rabu (18/12/2024) dalam video yang beredar tenda warna kuning tempat sejoli berada terlihat bergoyang-goyang. Hal ini mengundang perhatian wisatawan atau pengunjung lain yang tengah berkemah di lokasi.\\nCuriga, wisatawan lain pun mendatangi tenda tersebut. Benar saja, saat tenda dibuka di dalam tenda tersebut terdapat sejoli diduga bukan pasangan suami istri sedang mesum.\\nSejoli yang digerebek itu pun tampak panik dan berusaha menutup kembali tendanya. Peristiwa penggerebekan itu sempat direkam dan beredar viral di media sosial.\\nPenelusuran detikJatim, peristiwa itu terjadi di bumi perkemahan Bedengan yang berada di Desa Selorejo, Kecamatan Dau, Kabupaten Malang pada Minggu (15/12).\\nKapolsek Dau, Kompol Edi Hari Adi Kartika, membenarkan adanya kejadian itu. Hanya saja saat pihaknya ke lokasi para sejoli atau pengunjung lainnya yang berkemah sudah tak ada.\\n\\\"Itu benar, terjadi di wisata alam Bedengan. Saat kami datang ke lokasi, tidak menemukan yang bersangkutan,\\\" terang Edi saat dikonfirmasi, Rabu (18/12).\\nMeski begitu, Edi mengaku pihaknya akan melakukan rapat koordinasi bersama Muspika Dau guna mencegah kejadian serupa terulang kembali.\\n\\\"Besok kami rakor bersama Muspika untuk mengambil langkah-langkah pencegahan. Imbauan akan lebih dimaksimalkan dalam bentuk sosialisasi secara langsung,\\\" tegasnya.\\nMenurut Edi, pihaknya juga akan mengambil langkah antisipasi kerawanan bencana. Sebab saat ini sudah memasuki musim hujan.\\n\\\"Kita sosialisasikan juga terkait kerawanan bencana, apalagi saat ini sudah masuk musim penghujan. Selain meningkatkan patroli di lokasi tersebut,\\\" pungkasnya\\n\",\n          \"Vanuatu diguncang gempa dengan kekuatan magnitudo 7,3 pada Selasa siang (17/12/2024). Pada 12:47 siang Australian Eastern Daylight Time (AEDT), gempa bumi berkekuatan 7,3 skala Richter terjadi di dekat ibu kota Vanuatu, Port Vila.\\nGempa bumi tersebut terjadi 30 kilometer di sebelah barat kota Port Vila, pada kedalaman 57 kilometer, menurut United States Geological Survey (USGS).\\nVanuatu merupakan negara di Samudra Pasifik barat daya. Negara ini terdiri dari rantai pulau berupa 13 pulau utama dan banyak pulau kecil yang terletak sekitar 500 mil (800 km) di sebelah barat Fiji dan 1.100 mil (1.770 km) di sebelah timur Australia.\\nPulau-pulau tersebut membentang dari utara ke selatan sejauh sekitar 400 mil (650 km) dalam bentuk Y yang tidak beraturan.\\nKepulauan Torres adalah kelompok paling utara. Di sebelah selatan dari kelompok Torres, pulau-pulau utamanya adalah Vanua Lava dan Santa Maria (Gaua) di kelompok Kepulauan Banks, Espiritu Santo, Aoba (Ambae), Ma\\u00c3\\u00a9wo, Pentecost, Malakula, Ambrym, \\u00c3\\u0089pi, \\u00c3\\u0089fat\\u00c3\\u00a9, Erromango, Tanna, dan Anatom.\\nNama Vanuatu berarti \\\"Tanah Air Kita Selamanya\\\" dalam banyak bahasa Melanesia yang digunakan secara lokal. Port-Vila (Vila) sendiri terletak di Pulau \\u00c3\\u0089fat\\u00c3\\u00a9.\\nDikutip dari ensiklopedia Britannica, sekitar 200 mil (320 km) di sebelah tenggara Anatom, dua pulau tak berpenghuni, Hunter dan Matthew, diklaim oleh Vanuatu dan Prancis (sebagai bagian dari Kaledonia Baru).\\nVanuatu terletak di ring of fire, yakni sabuk aktivitas tektonik yang mengelilingi Samudra Pasifik, disebabkan serangkaian batas lempeng di sekitar lempeng Pasifik.\\nLempeng Pasifik dan lempeng Australia bertemu di sebelah barat Vanuatu, seperti dikutip dari ABC Pacific. Lempeng Australia mengalami subduksi, menukik di bawah lempeng Pasifik dengan kecepatan sekitar 80 hingga 90 milimeter per tahun. Ini menjadikannya sebagai batas lempeng yang bergerak cukup cepat.\\nKepulauan Solomon, Fiji, dan Tonga juga berada di batas lempeng ini, seperti halnya Selandia Baru di selatan.\\nDi wilayah yang rentan terhadap gempa bumi karena subduksi, gempa bumi mungkin terjadi di atas magnitudo 8. Namun, dalam catatan sejarah, di wilayah Vanuatu tidak ada gempa bumi di atas magnitudo ini.\\nUSGS menjelaskan sebagian besar batas antarlempeng tersembunyi di bawah samudra planet Bumi.\\nMenurut USGS, lempeng tektonik diperkirakan terbentuk sangat awal dalam sejarah Bumi yang berusia 4,6 miliar tahun dan terus bergerak di permukaan sejak saat itu. Saat lempeng bergerak, mereka terkadang terjebak saat bergesekan dengan lempeng tetangganya.\\nSaat lempeng menghadapi gesekan, terjadi pergeseran tiba-tiba dan menghasilkan gempa bumi. Oleh sebab itu, area di sepanjang batas lempeng lebih mungkin mengalami getaran daripada yang berada di pusat lempeng. Vanuatu, misalnya, membentang di ring of fire yang aktif secara seismik.\\nArea tempat lempeng Australia dan Pasifik bertemu, yang merupakan tempat gempa bumi hari Selasa terjadi adalah salah satu wilayah paling aktif secara seismik di dunia.\",\n          \"Pembagian rapor semester ganjil akan segera dimulai. Bagi para guru, bisa cek kata-kata motivasi untuk catatan wali kelas di sini.\\nPembagian rapor merupakan momen yang ditunggu-tunggu para siswa serta wali siswa. Bagaimana tidak, rapor tersebut akan menunjukkan kerja keras para siswa selama 1 semester.\\nSelain nilai, akan ada kolom catatan di mana wali kelas bisa memberikan catatan atau kata-kata motivasi terkait prestasi siswa. Nah sebagai referensi, berikut contoh 50 kata-kata motivasi untuk catatan wali kelas seperti dilansir dari arsip detikcom.\\n1. Belajar adalah awal dari kesuksesan di masa depan. Jadikan setiap pelajaran sebagai kesempatan untuk tumbuh dan berkembang.\\n2. Belajar adalah investasi terbaik untuk masa depanmu. Fokuslah pada tujuan dan jangan pernah berhenti mengejar pengetahuan.\\n3. Pendidikan bukanlah segala-galanya, namun segala-galanya dimulai dari pendidikan.\\n4. Tidak ada batasan dalam belajar. Semakin rajin belajar, semakin banyak pengetahuan yang akan kamu miliki.\\n5. Setiap kata yang kamu baca dan setiap ilmu yang kamu pelajari adalah tabungan untuk masa depanmu.\\n6. Tetaplah semangat mengejar mimpi!\\n7. Bakat adalah sesuatu yang perlu kamu kembangkan. Insting adalah sesuatu yang kamu asah!\\n8. Kalau ada cobaan, cobain! Kalau ada halangan, halangin! Kalo ada pelajaran, pelajari!\\n9. Jadilah orang berilmu yang mengilmukan orang lain. Jadilah orang cerdas yang mencerdaskan orang lain.\\n10. Masa depanmu dimulai dari dirimu sendiri. Jika ingin sukses belajarlah\\n11. Kalau capek, istirahat sejenak. Jangan berhenti. Terus belajar, terus bertumbuh!\\n12. Tidak ada usaha yang sia-sia. Mungkin sekarang belum waktunya, tapi suatu saat nanti kamu pasti menyadarinya.\\n13. Ingat! Setiap kamu malas-malasan, teman-teman kamu di luar sana terus berproses dan bertumbuh.\\n14. Jika kamu tak tahan penatnya belajar, maka kamu akan menanggung perihnya kebodohan -Imam Syafi'i.\\n15. Hiduplah seperti kamu akan mati besok. Belajarlah seperti kamu akan hidup selamanya - Mahatma Gandhi.\\n16. Pendidikan adalah senjata paling kuat yang bisa kamu gunakan untuk mengubah dunia - Nelson Mandela.\\n17. Belajar dengan giat untuk kebaikan yang begitu dalam, dan demi otak kita yang dangkal - Richards Baxte.\\n18. Pendidikan adalah tiket menuju masa depan; hari ini adalah saat untuk mempersiapkannya - Malcolm X.\\n19. Orang bijak belajar ketika mereka bisa. Orang bodoh baru belajar ketika terpaksa - Arthur Wellesey\\n20. Semakin banyak kamu membaca, semakin banyak yang kamu tahu. Semakin banyak yang kau pelajari, semakin banyak tempat yang akan kau kunjungi - Dr Seuss.\\n21. Bermimpilah setinggi langit. Jika kau jatuh, kau akan jatuh di antara bintang-bintang - Sukarno.\\n22. Belajar disaat orang lain tidur; bekerja sementara yang lain bermalas malasan; mempersiapkan disaat orang lain bermain; dan bermimpi sementara lainnya sedang berharap - William Arthur Ward.\\n23. Belajar di waktu kecil bagai mengukir di atas batu, sedangkan belajar sesudah besar bagai melukis di atas air - pepatah Arab.\\n24. Pelaut yang hebat tidak lahir dari laut yang tenang - peribahasa Afrika.\\n25. Belajar tanpa berpikir hasilnya akan sia-sia, berpikir tanpa belajar akan berbahaya - pepatah Cina.\\n26. Man jadda wa jada (barang Siapa yang bersungguh-sungguh, maka dia akan mendapatkan kesuksesan) - pepatah Arab.\\n27. Ilmu yang tidak diamalkan bagai pohon yang tak berbuah - pepatah Arab.\\n28. Sebaik-baik teman duduk adalah buku - pepatah Arab.\\n29. Bagi orang yang mau terus berjuang, tidak ada jalan yang tidak bisa dilewati - pepatah Latin.\\n29. Waktu orang bijak satu hari jauh lebih berharga dibanding waktu orang bodoh seumur hidup - pepatah Inggris.\\n30. The root of education are bitter, but the fruit is sweet (akar dari belajar itu pahit, tapi buahnya manis).\\n31. Work hard in silence. Let your success make the noise. (Bekerja keraslah dalam diam. Biarkan kesuksesanmu yang bersuara).\\n32. You don't need to be great to start. Start it now and you will be great. (Kamu tidak harus hebat untuk memulai. Mulailah maka kamu akan jadi hebat).\\n33. Your biggest weakness is when you give up, and your greatest power is when you try one more time. (Kelemahan terbesarmu adalah ketika kamu menyerah, dan kekuatan terbesarmu adalah ketika kamu mencoba sekali lagi).\\n34. Do your best at every opportunity that you have. (Lakukan yang terbaik di semua kesempatan yang kamu miliki).\\n35. Some people dream of accomplishing great things. Others stay awake and make it happen. (Sebagian orang hanya bermimpi mencapai hal-hal besar. Yang lain bangun dan bekerja untuk mewujudkannya).\\n36. Sekolah memang tempat untuk belajar, tapi belajar tidak harus di sekolah. Dunia dan seluruh isinya menyimpan banyak ilmu yang masih tersembunyi..\\n37. Suatu saat nanti, kamu yang hari ini suka menunda-nunda belajar adalah kamu yang nanti akan menyesal karena membuang waktu.\\n38. Jangan biarkan ucapan orang lain menjatuhkan mimpimu. Bungkam mulut mereka dengan prestasimu.\\n39. Setiap perjuangan pasti ada hasilnya. Gagal memberi pelajaran, sukses memberi kebahagiaan.\\n40. Sedikit kemajuan setiap hari di dalam dirimu menambah sesuatu hingga hasil yang besar.\\n41. Sesulit apa pun pelajaran, jangan pernah meragukan potensimu sendiri. Percaya pada dirimu dan terus asah kemampuanmu.\\n42. Jangan berhenti belajar sampai kamu merasa bangga dengan hasilnya. Barangsiapa menginginkan dunia, hendaklah ia berilmu. Barangsiapa menginginkan akhirat, hendaklah ia berilmu.\\n43. Pengetahuan adalah kekuatan. Informasi membebaskan. Pendidikan adalah premis kemajuan, di setiap masyarakat, di setiap keluarga - Kofi Annan.\\n44. Dasar dari setiap negara adalah pendidikan para pemuda - Diogenes.\\n45. Perilaku manusia mengalir dari tiga sumber utama: keinginan, emosi, dan pengetahuan - Plato.\\n46. Saya tidak pernah gagal. Saya hanya menemukan 10.000 cara yang tidak akan berhasil - Thomas Alva Edison.\\n47. Jika kamu mendidik seorang pria, maka seorang pria akan terdidik. Tapi jika kamu mendidik seorang wanita, sebuah generasi akan terdidik - Brigham Young\\n48. Pendidikan bukan persiapan untuk hidup. Pendidikan adalah hidup itu sendiri - John Dewey.\\n49. Tujuan pendidikan itu untuk mempertajam kecerdasan, memperkukuh kemauan serta memperhalus perasaan - Tan Malaka.\\n50. Pendidikan adalah apa yang tersisa setelah melupakan semua yang dia pelajari di sekolah - Albert Einstein.\\nItulah 50 kata-kata motivasi untuk catatan wali kelas. Semoga membantu!\"\n        ],\n        \"semantic_type\": \"\",\n        \"description\": \"\"\n      }\n    },\n    {\n      \"column\": \"kategori\",\n      \"properties\": {\n        \"dtype\": \"category\",\n        \"num_unique_values\": 9,\n        \"samples\": [\n          \"edu\",\n          \"inet\",\n          \"food\"\n        ],\n        \"semantic_type\": \"\",\n        \"description\": \"\"\n      }\n    }\n  ]\n}"
            }
          },
          "metadata": {},
          "execution_count": 27
        }
      ],
      "source": [
        "df = pd.DataFrame(berita)\n",
        "df"
      ]
    },
    {
      "cell_type": "code",
      "source": [
        "df.isna().sum()"
      ],
      "metadata": {
        "colab": {
          "base_uri": "https://localhost:8080/",
          "height": 209
        },
        "id": "GgQA6m4HfDg-",
        "outputId": "421a1e67-2cf8-41b0-b0c6-0e109f87fa8e"
      },
      "execution_count": 28,
      "outputs": [
        {
          "output_type": "execute_result",
          "data": {
            "text/plain": [
              "judul       0\n",
              "tanggal     0\n",
              "konten      0\n",
              "kategori    0\n",
              "dtype: int64"
            ],
            "text/html": [
              "<div>\n",
              "<style scoped>\n",
              "    .dataframe tbody tr th:only-of-type {\n",
              "        vertical-align: middle;\n",
              "    }\n",
              "\n",
              "    .dataframe tbody tr th {\n",
              "        vertical-align: top;\n",
              "    }\n",
              "\n",
              "    .dataframe thead th {\n",
              "        text-align: right;\n",
              "    }\n",
              "</style>\n",
              "<table border=\"1\" class=\"dataframe\">\n",
              "  <thead>\n",
              "    <tr style=\"text-align: right;\">\n",
              "      <th></th>\n",
              "      <th>0</th>\n",
              "    </tr>\n",
              "  </thead>\n",
              "  <tbody>\n",
              "    <tr>\n",
              "      <th>judul</th>\n",
              "      <td>0</td>\n",
              "    </tr>\n",
              "    <tr>\n",
              "      <th>tanggal</th>\n",
              "      <td>0</td>\n",
              "    </tr>\n",
              "    <tr>\n",
              "      <th>konten</th>\n",
              "      <td>0</td>\n",
              "    </tr>\n",
              "    <tr>\n",
              "      <th>kategori</th>\n",
              "      <td>0</td>\n",
              "    </tr>\n",
              "  </tbody>\n",
              "</table>\n",
              "</div><br><label><b>dtype:</b> int64</label>"
            ]
          },
          "metadata": {},
          "execution_count": 28
        }
      ]
    },
    {
      "cell_type": "code",
      "source": [
        "df['kategori'].value_counts()"
      ],
      "metadata": {
        "colab": {
          "base_uri": "https://localhost:8080/",
          "height": 397
        },
        "id": "SWcW3kXYfGye",
        "outputId": "9b56da08-45ca-4098-e111-02a6f522f038"
      },
      "execution_count": 29,
      "outputs": [
        {
          "output_type": "execute_result",
          "data": {
            "text/plain": [
              "kategori\n",
              "sport       20\n",
              "travel      20\n",
              "food        20\n",
              "edu         20\n",
              "oto         19\n",
              "properti    19\n",
              "finance     18\n",
              "inet        18\n",
              "health      18\n",
              "Name: count, dtype: int64"
            ],
            "text/html": [
              "<div>\n",
              "<style scoped>\n",
              "    .dataframe tbody tr th:only-of-type {\n",
              "        vertical-align: middle;\n",
              "    }\n",
              "\n",
              "    .dataframe tbody tr th {\n",
              "        vertical-align: top;\n",
              "    }\n",
              "\n",
              "    .dataframe thead th {\n",
              "        text-align: right;\n",
              "    }\n",
              "</style>\n",
              "<table border=\"1\" class=\"dataframe\">\n",
              "  <thead>\n",
              "    <tr style=\"text-align: right;\">\n",
              "      <th></th>\n",
              "      <th>count</th>\n",
              "    </tr>\n",
              "    <tr>\n",
              "      <th>kategori</th>\n",
              "      <th></th>\n",
              "    </tr>\n",
              "  </thead>\n",
              "  <tbody>\n",
              "    <tr>\n",
              "      <th>sport</th>\n",
              "      <td>20</td>\n",
              "    </tr>\n",
              "    <tr>\n",
              "      <th>travel</th>\n",
              "      <td>20</td>\n",
              "    </tr>\n",
              "    <tr>\n",
              "      <th>food</th>\n",
              "      <td>20</td>\n",
              "    </tr>\n",
              "    <tr>\n",
              "      <th>edu</th>\n",
              "      <td>20</td>\n",
              "    </tr>\n",
              "    <tr>\n",
              "      <th>oto</th>\n",
              "      <td>19</td>\n",
              "    </tr>\n",
              "    <tr>\n",
              "      <th>properti</th>\n",
              "      <td>19</td>\n",
              "    </tr>\n",
              "    <tr>\n",
              "      <th>finance</th>\n",
              "      <td>18</td>\n",
              "    </tr>\n",
              "    <tr>\n",
              "      <th>inet</th>\n",
              "      <td>18</td>\n",
              "    </tr>\n",
              "    <tr>\n",
              "      <th>health</th>\n",
              "      <td>18</td>\n",
              "    </tr>\n",
              "  </tbody>\n",
              "</table>\n",
              "</div><br><label><b>dtype:</b> int64</label>"
            ]
          },
          "metadata": {},
          "execution_count": 29
        }
      ]
    },
    {
      "cell_type": "code",
      "source": [
        "import matplotlib.pyplot as plt\n",
        "\n",
        "# plot jumlah kategori\n",
        "\n",
        "class_count = df['kategori'].value_counts()\n",
        "\n",
        "plt.figure(figsize=(8, 5))\n",
        "class_count.plot(kind='bar')\n",
        "plt.xlabel('Kategori')\n",
        "plt.ylabel('Jumlah Data')\n",
        "plt.show()"
      ],
      "metadata": {
        "colab": {
          "base_uri": "https://localhost:8080/",
          "height": 506
        },
        "id": "TDVYTymBfKX3",
        "outputId": "5164a637-7762-448f-ae6d-9704d1debdda"
      },
      "execution_count": 30,
      "outputs": [
        {
          "output_type": "display_data",
          "data": {
            "text/plain": [
              "<Figure size 800x500 with 1 Axes>"
            ],
            "image/png": "[encoded data removed]"
          },
          "metadata": {}
        }
      ]
    },
    {
      "cell_type": "code",
      "execution_count": 31,
      "metadata": {
        "id": "GkfGXLvqKoid"
      },
      "outputs": [],
      "source": [
        "df.to_csv('berita.csv', index=False) # simpan ke csv"
      ]
    }
  ],
  "metadata": {
    "colab": {
      "provenance": []
    },
    "kernelspec": {
      "display_name": "Python 3",
      "name": "python3"
    },
    "language_info": {
      "name": "python"
    }
  },
  "nbformat": 4,
  "nbformat_minor": 0
}